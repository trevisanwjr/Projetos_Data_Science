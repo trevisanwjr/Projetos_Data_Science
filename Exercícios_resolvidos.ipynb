{
  "nbformat": 4,
  "nbformat_minor": 0,
  "metadata": {
    "colab": {
      "name": "Untitled4.ipynb",
      "provenance": [],
      "collapsed_sections": [],
      "authorship_tag": "ABX9TyPBAPt6CqsWwmcvcckho89M",
      "include_colab_link": true
    },
    "kernelspec": {
      "name": "python3",
      "display_name": "Python 3"
    }
  },
  "cells": [
    {
      "cell_type": "markdown",
      "metadata": {
        "id": "view-in-github",
        "colab_type": "text"
      },
      "source": [
        "<a href=\"https://colab.research.google.com/github/trevisanwjr/Projetos_Data_Science/blob/master/Exerc%C3%ADcios_resolvidos.ipynb\" target=\"_parent\"><img src=\"https://colab.research.google.com/assets/colab-badge.svg\" alt=\"Open In Colab\"/></a>"
      ]
    },
    {
      "cell_type": "markdown",
      "metadata": {
        "id": "OGraBQcfZvee",
        "colab_type": "text"
      },
      "source": [
        "Exercicio 1: Crie um programa que pergunte para o usuário colocar seu nome e sua idade. Imprima uma mensagem personalizada que diga a ele quantos anos vai demorar para ele ter 100 anos!"
      ]
    },
    {
      "cell_type": "code",
      "metadata": {
        "id": "t5Bx-CNqhaUP",
        "colab_type": "code",
        "colab": {
          "base_uri": "https://localhost:8080/",
          "height": 87
        },
        "outputId": "ff31c4ba-464b-45aa-c516-1dab6f1ceda5"
      },
      "source": [
        "nome = input(\"escreva seu nome \")\n",
        "print(\"seu nome é bem legal ;)\")\n",
        "idade = int(input(\"qual a sua idade? \"))\n",
        "a = 100 - idade\n",
        "print(\"voce sabia, que com a sua idade, você ainda vai demorar\", a , \"anos para completar 100 anos\")"
      ],
      "execution_count": null,
      "outputs": [
        {
          "output_type": "stream",
          "text": [
            "escreva seu nome Walter\n",
            "seu nome é bem legal ;)\n",
            "qual a sua idade? 53\n",
            "voce sabia, que com a sua idade, você ainda vai demorar 47 anos para completar 100 anos\n"
          ],
          "name": "stdout"
        }
      ]
    },
    {
      "cell_type": "markdown",
      "metadata": {
        "id": "1UHMvy7Eb2HJ",
        "colab_type": "text"
      },
      "source": [
        "**Desafio 1**: Utilize a biblioteca **datetime** para fazer as contas de data.\n"
      ]
    },
    {
      "cell_type": "code",
      "metadata": {
        "id": "_eA0_X9vb922",
        "colab_type": "code",
        "cellView": "both",
        "colab": {
          "base_uri": "https://localhost:8080/",
          "height": 105
        },
        "outputId": "648956f9-bf59-43ad-b858-45a66b370273"
      },
      "source": [
        "nome = input(\"escreva seu nome \")\n",
        "print(\"seu nome é bem legal ;)\")\n",
        "idade = int(input(\"qual a sua idade? \"))\n",
        "from datetime import date\n",
        "data_atual = date.today()\n",
        "data_em_texto = '{}'.format(data_atual.year)\n",
        "k = int(data_em_texto)\n",
        "z = k - idade - 1\n",
        "print(\"quer dizer que você nasceu em\", z)\n",
        "w = z + 100\n",
        "print(\"voce sabia, que com a sua idade, você vai fazer 100 anos em\", w )\n",
        "\n",
        "#Bibliografias:\n",
        "#https://www.alura.com.br/artigos/lidando-com-datas-e-horarios-no-python"
      ],
      "execution_count": null,
      "outputs": [
        {
          "output_type": "stream",
          "text": [
            "escreva seu nome walter\n",
            "seu nome é bem legal ;)\n",
            "qual a sua idade? 53\n",
            "quer dizer que você nasceu em 1966\n",
            "voce sabia, que com a sua idade, você vai fazer 100 anos em 2066\n"
          ],
          "name": "stdout"
        }
      ]
    },
    {
      "cell_type": "markdown",
      "metadata": {
        "id": "2oEt2oTNQh4J",
        "colab_type": "text"
      },
      "source": [
        "a) Operações com datas utilizando o datetime"
      ]
    },
    {
      "cell_type": "code",
      "metadata": {
        "id": "dStdcETib1cT",
        "colab_type": "code",
        "colab": {
          "base_uri": "https://localhost:8080/",
          "height": 34
        },
        "outputId": "ca03df5b-da54-4cca-d0b8-354b37e308e1"
      },
      "source": [
        "#mudando uma variável string para inteira\n",
        "from datetime import date\n",
        "data_atual = date.today()\n",
        "data_em_texto = '{}'.format(data_atual.year)\n",
        "k = int(data_em_texto)\n",
        "print(k+1)"
      ],
      "execution_count": null,
      "outputs": [
        {
          "output_type": "stream",
          "text": [
            "2021\n"
          ],
          "name": "stdout"
        }
      ]
    },
    {
      "cell_type": "code",
      "metadata": {
        "id": "Hn_ZjYr1QmLd",
        "colab_type": "code",
        "colab": {
          "base_uri": "https://localhost:8080/",
          "height": 34
        },
        "outputId": "5bba3a7e-dc22-4249-a6b1-3d8b4dee2471"
      },
      "source": [
        "from datetime import date\n",
        "data_atual = date.today()\n",
        "data_em_texto = '{}/{}/{}'.format(data_atual.day, data_atual.month, data_atual.year)\n",
        "print(data_em_texto)"
      ],
      "execution_count": null,
      "outputs": [
        {
          "output_type": "stream",
          "text": [
            "11/1/2020\n"
          ],
          "name": "stdout"
        }
      ]
    },
    {
      "cell_type": "markdown",
      "metadata": {
        "id": "Xd2Gl1LOQsP-",
        "colab_type": "text"
      },
      "source": [
        "b) Imprimindo a data e a hora (existe erro de fuso horário)"
      ]
    },
    {
      "cell_type": "code",
      "metadata": {
        "id": "1if6-vhv09dj",
        "colab_type": "code",
        "colab": {
          "base_uri": "https://localhost:8080/",
          "height": 34
        },
        "outputId": "3b73693b-aee7-4dbd-e92e-bb7832289d92"
      },
      "source": [
        "from datetime import datetime\n",
        "data_e_hora_atuais = datetime.now()\n",
        "data_e_hora_em_texto = data_e_hora_atuais.strftime(\"%d/%m/%Y %H:%M\")\n",
        "print(data_e_hora_em_texto)\n",
        "#link de correção para o fuso horário\n",
        "#(https:/https://www.alura.com.br/artigos/lidando-com-datas-e-horarios-no-python/)"
      ],
      "execution_count": null,
      "outputs": [
        {
          "output_type": "stream",
          "text": [
            "11/01/2020 21:32\n"
          ],
          "name": "stdout"
        }
      ]
    },
    {
      "cell_type": "code",
      "metadata": {
        "id": "_HRdjFKbi4fc",
        "colab_type": "code",
        "colab": {
          "base_uri": "https://localhost:8080/",
          "height": 34
        },
        "outputId": "172e64f4-9bc8-45c5-9629-06975368875a"
      },
      "source": [
        "pip install pytz"
      ],
      "execution_count": null,
      "outputs": [
        {
          "output_type": "stream",
          "text": [
            "Requirement already satisfied: pytz in /usr/local/lib/python3.6/dist-packages (2018.9)\n"
          ],
          "name": "stdout"
        }
      ]
    },
    {
      "cell_type": "markdown",
      "metadata": {
        "id": "WwceHcD1Q0qv",
        "colab_type": "text"
      },
      "source": [
        "c) Imprimindo a data na sequência dd/mm/aaaa"
      ]
    },
    {
      "cell_type": "code",
      "metadata": {
        "id": "zBvN20j-3TeR",
        "colab_type": "code",
        "colab": {
          "base_uri": "https://localhost:8080/",
          "height": 34
        },
        "outputId": "6e7cb803-eea8-4894-c869-91c0d0e85866"
      },
      "source": [
        "data_em_texto = data_atual.strftime(\"%d/%m/%Y\")\n",
        "print(data_em_texto)"
      ],
      "execution_count": null,
      "outputs": [
        {
          "output_type": "stream",
          "text": [
            "11/01/2020\n"
          ],
          "name": "stdout"
        }
      ]
    },
    {
      "cell_type": "markdown",
      "metadata": {
        "id": "F4_fecMkSZRS",
        "colab_type": "text"
      },
      "source": [
        "e) Cáculos com datas => (ano atual - idade) "
      ]
    },
    {
      "cell_type": "code",
      "metadata": {
        "id": "kKNXj5DtSdkv",
        "colab_type": "code",
        "colab": {
          "base_uri": "https://localhost:8080/",
          "height": 34
        },
        "outputId": "6b75a537-f863-4428-c7fe-d5a02b96ceb0"
      },
      "source": [
        "x=int(53)\n",
        "data_em_texto = \"{}\".format(data_atual.year)\n",
        "y=int(data_em_texto)\n",
        "soma=(y-x)-1\n",
        "print(soma)"
      ],
      "execution_count": null,
      "outputs": [
        {
          "output_type": "stream",
          "text": [
            "1966\n"
          ],
          "name": "stdout"
        }
      ]
    },
    {
      "cell_type": "markdown",
      "metadata": {
        "id": "ByUk12L245Dm",
        "colab_type": "text"
      },
      "source": [
        "VOLTANDO AO DESAFIO 1 => Com a biblioteca DATETIME - Crie um programa que pergunte para o usuário colocar seu nome e sua idade. Imprima uma mensagem personalizada que diga a ele EM QUE ANO ele VAI COMPLETAR 100 anos!"
      ]
    },
    {
      "cell_type": "code",
      "metadata": {
        "id": "FQBYKs-mzhMT",
        "colab_type": "code",
        "colab": {
          "base_uri": "https://localhost:8080/",
          "height": 176
        },
        "outputId": "f1b14f79-4383-414b-d405-7e77654e9725"
      },
      "source": [
        "nome = input(\"Escreva seu nome?: \\n\")\n",
        "print(nome.swapcase(), \", seu nome é bem legal\") #nome em maiúsculo\n",
        "idade = int(input(\"Qual a sua idade? (anos) \"))\n",
        "dia = int(input(\"Em que dia você nasceu?: \"))\n",
        "mes = int(input(\"Em que mês você nasceu?: \"))\n",
        "data_em_texto = \"{}\".format(data_atual.year)\n",
        "y=int(data_em_texto)\n",
        "soma=(y-idade)-1\n",
        "print(\"Então quer dizer que você nasceu em: \", dia,\"/\", mes,\"/\", soma)\n",
        "centenario=soma+100\n",
        "print(\"Voce sabia que com essa idade, voce vai completar 100 anos em:\", centenario)\n",
        "\n",
        "print(\"Parabéns, Sucesso e Muita Saúde\")"
      ],
      "execution_count": null,
      "outputs": [
        {
          "output_type": "stream",
          "text": [
            "Escreva seu nome?: \n",
            "walter\n",
            "WALTER , seu nome é bem legal\n",
            "Qual a sua idade? (anos) 53\n",
            "Em que dia você nasceu?: 17\n",
            "Em que mês você nasceu?: 12\n",
            "Então quer dizer que você nasceu em:  17 / 12 / 1966\n",
            "Voce sabia que com essa idade, voce vai completar 100 anos em: 2066\n",
            "Parabéns, Sucesso e Muita Saúde\n"
          ],
          "name": "stdout"
        }
      ]
    },
    {
      "cell_type": "markdown",
      "metadata": {
        "id": "piDuAppKrY5y",
        "colab_type": "text"
      },
      "source": [
        "\n",
        "\n",
        "---\n",
        "\n"
      ]
    },
    {
      "cell_type": "markdown",
      "metadata": {
        "id": "tmT_lYA8b_BF",
        "colab_type": "text"
      },
      "source": [
        "Vamos ao desafio 2: pergunte para o usuario um numero de 1 a 10 e imprima a mensagem personalizada X vezes.\n"
      ]
    },
    {
      "cell_type": "code",
      "metadata": {
        "id": "ku45v_MacGIU",
        "colab_type": "code",
        "colab": {
          "base_uri": "https://localhost:8080/",
          "height": 87
        },
        "outputId": "a74cebb4-aa39-419a-e3db-8bf04f41320a"
      },
      "source": [
        "numero = int(input(\"Escolha um numero inteiro de 1 a 10: \"))\n",
        "x = numero\n",
        "frase=\"Caramba, seu nome é bem legal! \\n\"\n",
        "y=(x*frase)\n",
        "print(y)\n",
        "#não consegui imprimir pulando linha. Como eu faço?"
      ],
      "execution_count": null,
      "outputs": [
        {
          "output_type": "stream",
          "text": [
            "Escolha um numero inteiro de 1 a 10: 2\n",
            "Caramba, seu nome é bem legal! \n",
            "Caramba, seu nome é bem legal! \n",
            "\n"
          ],
          "name": "stdout"
        }
      ]
    },
    {
      "cell_type": "markdown",
      "metadata": {
        "id": "jNNGOI_cckWr",
        "colab_type": "text"
      },
      "source": [
        "a) Exemplo externo"
      ]
    },
    {
      "cell_type": "code",
      "metadata": {
        "id": "CiXOk7qkY_bc",
        "colab_type": "code",
        "colab": {
          "base_uri": "https://localhost:8080/",
          "height": 87
        },
        "outputId": "86cc400f-d3a8-4868-9fcb-d38872c9d4af"
      },
      "source": [
        "nome ='Paulo'\n",
        "profissao = 'estudante'\n",
        "escola = 'estadual dourado'\n",
        "idade = 18\n",
        "print('Nome: '+nome   + '\\nTrabalho: '+profissao +  '\\nEscola: ' +escola+   '\\nIdade: '+str(idade)+ ' anos')"
      ],
      "execution_count": null,
      "outputs": [
        {
          "output_type": "stream",
          "text": [
            "Nome: Paulo\n",
            "Trabalho: estudante\n",
            "Escola: estadual dourado\n",
            "Idade: 18 anos\n"
          ],
          "name": "stdout"
        }
      ]
    },
    {
      "cell_type": "markdown",
      "metadata": {
        "id": "L_jqjCLHcGrU",
        "colab_type": "text"
      },
      "source": [
        "Desafio 3: Utilizar F-Strings para montar a mensagem personalizada."
      ]
    },
    {
      "cell_type": "markdown",
      "metadata": {
        "id": "l9VG9_aypDJ5",
        "colab_type": "text"
      },
      "source": [
        "a) Treinando formatação com f\"\" (fstrings)"
      ]
    },
    {
      "cell_type": "code",
      "metadata": {
        "id": "uVe9vT-_cNCc",
        "colab_type": "code",
        "colab": {
          "base_uri": "https://localhost:8080/",
          "height": 34
        },
        "outputId": "7df6bafe-d6c4-412c-a02c-bd203beb29a5"
      },
      "source": [
        "nome  =  \"Eric\"\n",
        "idade  = 74 \n",
        "f' \"Olá, {nome}. Você tem {idade} anos?.\" '"
      ],
      "execution_count": null,
      "outputs": [
        {
          "output_type": "execute_result",
          "data": {
            "text/plain": [
              "' \"Olá, Eric. Você tem 74 anos?.\" '"
            ]
          },
          "metadata": {
            "tags": []
          },
          "execution_count": 117
        }
      ]
    },
    {
      "cell_type": "code",
      "metadata": {
        "id": "DaQfG1J-pYnQ",
        "colab_type": "code",
        "colab": {
          "base_uri": "https://localhost:8080/",
          "height": 158
        },
        "outputId": "40949d69-476a-4c78-f4ab-50a6a059afc8"
      },
      "source": [
        "nome = input(\"escreva seu nome?: \")\n",
        "print(f\"{nome}, Caramba, seu nome é bem legal\")\n",
        "idade = int(input(\"Qual a sua idade?: \"))\n",
        "dia = int(input(\"Em que dia você nasceu?: \"))\n",
        "mes = int(input(\"Em que mês você nasceu?: \"))\n",
        "data_em_texto = \"{}\".format(data_atual.year)\n",
        "y=int(data_em_texto)\n",
        "soma=(y-idade)-1\n",
        "print(f\"Quer dizer então que você nasceu em: {dia} / {mes} / {soma}\")\n",
        "centenario=soma+100\n",
        "print(f\"Voce sabia que com essa idade, voce vai completar 100 anos em {centenario}\")\n",
        "print(f\"Parabéns, Sucesso e Muita Saúde\")"
      ],
      "execution_count": null,
      "outputs": [
        {
          "output_type": "stream",
          "text": [
            "escreva seu nome?: Walter\n",
            "Walter, Caramba, seu nome é bem legal\n",
            "Qual a sua idade?: 53\n",
            "Em que dia você nasceu?: 17\n",
            "Em que mês você nasceu?: 12\n",
            "Quer dizer então que você nasceu em: 17 / 12 / 1966\n",
            "Voce sabia que com essa idade, voce vai completar 100 anos em 2066\n",
            "Parabéns, Sucesso e Muita Saúde\n"
          ],
          "name": "stdout"
        }
      ]
    },
    {
      "cell_type": "markdown",
      "metadata": {
        "id": "F-kW3w7-7O5k",
        "colab_type": "text"
      },
      "source": [
        "\n",
        "\n",
        "---\n",
        "\n"
      ]
    },
    {
      "cell_type": "markdown",
      "metadata": {
        "id": "xqfr1pPN-bNV",
        "colab_type": "text"
      },
      "source": [
        "Exercicio 2: \n",
        "com a lista de exemplo [1, 1, 2, 3, 5, 8, 13, 21, 34, 55, 89] escreva um programa que imprima todos os elementos que sejam maiores que 5.\n"
      ]
    },
    {
      "cell_type": "code",
      "metadata": {
        "id": "m6vOxjvw-os-",
        "colab_type": "code",
        "colab": {
          "base_uri": "https://localhost:8080/",
          "height": 34
        },
        "outputId": "96eb5df6-3502-4563-e410-850ac8ec892a"
      },
      "source": [
        "#Declarando uma lista\n",
        "lista = [1, 1, 2, 3, 5, 8, 13, 21, 34, 55, 89]\n",
        "a=5\n",
        "#dividindo cada valor por 5\n",
        "new_lista = [float(i) / a for i in lista]\n",
        "\n",
        "print(new_lista)"
      ],
      "execution_count": null,
      "outputs": [
        {
          "output_type": "stream",
          "text": [
            "[0.2, 0.2, 0.4, 0.6, 1.0, 1.6, 2.6, 4.2, 6.8, 11.0, 17.8]\n"
          ],
          "name": "stdout"
        }
      ]
    },
    {
      "cell_type": "code",
      "metadata": {
        "id": "YrAejEst99F9",
        "colab_type": "code",
        "colab": {
          "base_uri": "https://localhost:8080/",
          "height": 34
        },
        "outputId": "827e0b26-a865-4c56-c4b2-5168c80842fd"
      },
      "source": [
        "myList = [1,2,3,4,5,6,7,8,9]\n",
        "myInt = 10\n",
        "newList = [float(i) / myInt for i in myList]\n",
        "print(newList)"
      ],
      "execution_count": null,
      "outputs": [
        {
          "output_type": "stream",
          "text": [
            "[0.1, 0.2, 0.3, 0.4, 0.5, 0.6, 0.7, 0.8, 0.9]\n"
          ],
          "name": "stdout"
        }
      ]
    },
    {
      "cell_type": "markdown",
      "metadata": {
        "id": "ntLQW0dv-fCH",
        "colab_type": "text"
      },
      "source": [
        "Desafio 2.1: Em vez de escrever os elementos um por um faça uma nova lista com os elementos maiores que 5 e imprima essa nova lista."
      ]
    },
    {
      "cell_type": "markdown",
      "metadata": {
        "id": "TX--H6-A-h_8",
        "colab_type": "text"
      },
      "source": [
        "\n",
        "Desafio 2.2: Faça esse exercicio em apenas uma linha!"
      ]
    },
    {
      "cell_type": "markdown",
      "metadata": {
        "id": "0ZHjthtr-kfI",
        "colab_type": "text"
      },
      "source": [
        "Desafio 2.3: Peça para o usuario um numero e retorne uma lista que contenha apenas elementos da lista de exemplo que forem maiores que o valor dado pelo usuario."
      ]
    },
    {
      "cell_type": "code",
      "metadata": {
        "id": "hqDU8iHTNcy-",
        "colab_type": "code",
        "colab": {
          "base_uri": "https://localhost:8080/",
          "height": 123
        },
        "outputId": "7af0f56e-bf67-4884-b3ec-34cea38eed3c"
      },
      "source": [
        "lista =  [1, 1, 2, 3, 5, 8, 13, 21, 34, 55, 89]\n",
        "lista.sort(reverse=True)\n",
        "a=(lista[0])\n",
        "b=(lista[1])\n",
        "c=(lista[2])\n",
        "d=(lista[3])\n",
        "e=(lista[4])\n",
        "f=(lista[5])\n",
        "g=(lista[6])\n",
        "h=(lista[7])\n",
        "i=(lista[8])\n",
        "j=(lista[9])\n",
        "k=(lista[10])\n",
        "x = 5\n",
        "if a > x:\n",
        "  print(a)\n",
        "  if b > x:\n",
        "    print(b)\n",
        "    if c > x:\n",
        "      print(c)\n",
        "      if d > x:\n",
        "        print(d)\n",
        "        if e > x:\n",
        "          print(e)\n",
        "          if f > x:\n",
        "            print(f)\n",
        "            if g > x:\n",
        "              print(g)\n",
        "              if h > x:\n",
        "                print(h)\n",
        "                if i > x:\n",
        "                  print(i)\n",
        "                  if j > x:\n",
        "                    print(j)\n",
        "                    if k > x:\n",
        "                      print(k)\n",
        "else:\n",
        "  print(\"#\")"
      ],
      "execution_count": null,
      "outputs": [
        {
          "output_type": "stream",
          "text": [
            "89\n",
            "55\n",
            "34\n",
            "21\n",
            "13\n",
            "8\n"
          ],
          "name": "stdout"
        }
      ]
    },
    {
      "cell_type": "markdown",
      "metadata": {
        "id": "F42qtoQ7L5Az",
        "colab_type": "text"
      },
      "source": [
        "*Treinado operações com listas*"
      ]
    },
    {
      "cell_type": "code",
      "metadata": {
        "id": "hPlJBtY2KhSd",
        "colab_type": "code",
        "colab": {
          "base_uri": "https://localhost:8080/",
          "height": 34
        },
        "outputId": "e67b4c0c-6068-4a24-f7db-d8988f4874f2"
      },
      "source": [
        "lista =  [1, 1, 2, 3, 5, 8, 13, 21, 34, 55, 89]\n",
        "lista.sort(reverse=True)\n",
        "x = 5\n",
        "a=(lista[0])\n",
        "if a > x:\n",
        "  print(a)\n",
        "else:\n",
        "  print(\"é menor\")"
      ],
      "execution_count": null,
      "outputs": [
        {
          "output_type": "stream",
          "text": [
            "89\n"
          ],
          "name": "stdout"
        }
      ]
    },
    {
      "cell_type": "code",
      "metadata": {
        "id": "d5L6QUwDIyzz",
        "colab_type": "code",
        "colab": {
          "base_uri": "https://localhost:8080/",
          "height": 34
        },
        "outputId": "3d18fd13-7b8a-4ea2-b4ea-70b4d1917968"
      },
      "source": [
        "bruno = 14\n",
        "if bruno >= 13:\n",
        "  print(\"dirigir\")"
      ],
      "execution_count": null,
      "outputs": [
        {
          "output_type": "stream",
          "text": [
            "dirigir\n"
          ],
          "name": "stdout"
        }
      ]
    },
    {
      "cell_type": "code",
      "metadata": {
        "id": "V5YpPdqNJWRa",
        "colab_type": "code",
        "colab": {
          "base_uri": "https://localhost:8080/",
          "height": 34
        },
        "outputId": "d392736e-b16b-49f4-fa36-4d64d180d185"
      },
      "source": [
        "lista_1 = 6\n",
        "if lista_1 > 5:\n",
        "  print(lista_1)\n",
        "else:\n",
        "  print(\"vazio\")"
      ],
      "execution_count": null,
      "outputs": [
        {
          "output_type": "stream",
          "text": [
            "6\n"
          ],
          "name": "stdout"
        }
      ]
    },
    {
      "cell_type": "code",
      "metadata": {
        "id": "2O69atDcmUzt",
        "colab_type": "code",
        "colab": {
          "base_uri": "https://localhost:8080/",
          "height": 34
        },
        "outputId": "0187228f-df6f-4afe-aa06-3cd23c02d61b"
      },
      "source": [
        "#testando comando inverter lista\n",
        "lista =  [1, 1, 2, 3, 5, 8, 13, 21, 34, 55, 89]\n",
        "lista.sort(reverse=True)\n",
        "print(lista)"
      ],
      "execution_count": null,
      "outputs": [
        {
          "output_type": "stream",
          "text": [
            "[89, 55, 34, 21, 13, 8, 5, 3, 2, 1, 1]\n"
          ],
          "name": "stdout"
        }
      ]
    },
    {
      "cell_type": "code",
      "metadata": {
        "id": "B9OP3apkTNxx",
        "colab_type": "code",
        "colab": {
          "base_uri": "https://localhost:8080/",
          "height": 34
        },
        "outputId": "b496ab90-165b-4993-a9e6-632568c3a98f"
      },
      "source": [
        "if(5>5):\n",
        "  print(\"verdadeiro\")\n",
        "else:\n",
        "  print(\"falso\")"
      ],
      "execution_count": null,
      "outputs": [
        {
          "output_type": "stream",
          "text": [
            "falso\n"
          ],
          "name": "stdout"
        }
      ]
    },
    {
      "cell_type": "code",
      "metadata": {
        "id": "2kjE5QUbUJZp",
        "colab_type": "code",
        "colab": {
          "base_uri": "https://localhost:8080/",
          "height": 34
        },
        "outputId": "8cfe94ab-93ba-457a-b888-8a8bb88ee097"
      },
      "source": [
        "6>3"
      ],
      "execution_count": null,
      "outputs": [
        {
          "output_type": "execute_result",
          "data": {
            "text/plain": [
              "True"
            ]
          },
          "metadata": {
            "tags": []
          },
          "execution_count": 161
        }
      ]
    },
    {
      "cell_type": "code",
      "metadata": {
        "id": "CeMyCtrwULqf",
        "colab_type": "code",
        "colab": {
          "base_uri": "https://localhost:8080/",
          "height": 34
        },
        "outputId": "f36bded3-b556-4cc3-ead8-c45f3a4254c4"
      },
      "source": [
        "3<6"
      ],
      "execution_count": null,
      "outputs": [
        {
          "output_type": "execute_result",
          "data": {
            "text/plain": [
              "True"
            ]
          },
          "metadata": {
            "tags": []
          },
          "execution_count": 162
        }
      ]
    },
    {
      "cell_type": "code",
      "metadata": {
        "id": "2PKLgNtPUbjs",
        "colab_type": "code",
        "colab": {
          "base_uri": "https://localhost:8080/",
          "height": 34
        },
        "outputId": "fbd5cdc5-5554-422d-b717-e81e5ba27e35"
      },
      "source": [
        "if 5==5:\n",
        "  print(\"ok\")\n"
      ],
      "execution_count": null,
      "outputs": [
        {
          "output_type": "stream",
          "text": [
            "ok\n"
          ],
          "name": "stdout"
        }
      ]
    },
    {
      "cell_type": "markdown",
      "metadata": {
        "id": "I_kTPSFt-mzR",
        "colab_type": "text"
      },
      "source": [
        "\n",
        "\n",
        "---\n",
        "\n"
      ]
    },
    {
      "cell_type": "markdown",
      "metadata": {
        "id": "zUMbq-55en-m",
        "colab_type": "text"
      },
      "source": [
        "Exercicio 3:\n",
        "\n",
        "Dado o algoritimo, abaixo:"
      ]
    },
    {
      "cell_type": "code",
      "metadata": {
        "id": "WcT9StoaerFC",
        "colab_type": "code",
        "colab": {
          "base_uri": "https://localhost:8080/",
          "height": 34
        },
        "outputId": "e360c588-f4fe-4ee2-a537-fd03d6db869d"
      },
      "source": [
        "ano_nascimento = [1990, 1991, 1990, 1990, 1992, 1991]\n",
        "idades = []\n",
        "for ano in ano_nascimento:\n",
        "  idades.append (2020-ano)\n",
        "print(idades)"
      ],
      "execution_count": null,
      "outputs": [
        {
          "output_type": "stream",
          "text": [
            "[30, 29, 30, 30, 28, 29]\n"
          ],
          "name": "stdout"
        }
      ]
    },
    {
      "cell_type": "markdown",
      "metadata": {
        "id": "KRT8PKblWd_w",
        "colab_type": "text"
      },
      "source": [
        "3.0.1 - Transforme-o utilizando **list comprehension** para que ele fique com apenas uma linha!\n"
      ]
    },
    {
      "cell_type": "code",
      "metadata": {
        "id": "24_W_y6xYl7E",
        "colab_type": "code",
        "colab": {
          "base_uri": "https://localhost:8080/",
          "height": 34
        },
        "outputId": "4e78d9f1-5b59-4b7a-9c4d-7c4667c5dcc6"
      },
      "source": [
        "ano_nascimento = [1990, 1991, 1990, 1990, 1992, 1991]\n",
        "calculando = [2020 - v for v in ano_nascimento]   #'v'é a abreviação de variável. A list comprehension subtrai de 2020, cada elemento da lista.\n",
        "print(calculando)"
      ],
      "execution_count": null,
      "outputs": [
        {
          "output_type": "stream",
          "text": [
            "[30, 29, 30, 30, 28, 29]\n"
          ],
          "name": "stdout"
        }
      ]
    },
    {
      "cell_type": "markdown",
      "metadata": {
        "id": "aRfu1mmVqJiU",
        "colab_type": "text"
      },
      "source": [
        "*Desafio 3.1: Agora utilize **lambda** para fazer a mesma coisa! (expressões lambda)*"
      ]
    },
    {
      "cell_type": "code",
      "metadata": {
        "id": "LwevC6mPqpGB",
        "colab_type": "code",
        "colab": {
          "base_uri": "https://localhost:8080/",
          "height": 34
        },
        "outputId": "9e5a1291-70e3-40f9-e825-d7234832c1fa"
      },
      "source": [
        "subtração = lambda ano_nascimento: 2020 - ano_nascimento\n",
        "subtração(1990)  #neste caso, preciso ir passando os parâmetros da lista ano_nascimento  1990, 1991, 1992"
      ],
      "execution_count": null,
      "outputs": [
        {
          "output_type": "execute_result",
          "data": {
            "text/plain": [
              "30"
            ]
          },
          "metadata": {
            "tags": []
          },
          "execution_count": 71
        }
      ]
    },
    {
      "cell_type": "markdown",
      "metadata": {
        "id": "js9LAVZrqOIj",
        "colab_type": "text"
      },
      "source": [
        "*Desafio 3.2: Utilizando a lista ano_nascimento, faça uma nova lista que contenha apenas os anos pares e que não sejam repetidos.*"
      ]
    },
    {
      "cell_type": "code",
      "metadata": {
        "id": "4wfDQiFeqSwo",
        "colab_type": "code",
        "colab": {
          "base_uri": "https://localhost:8080/",
          "height": 292
        },
        "outputId": "a855e232-dbe5-4a4c-d972-c39a9604d7dd"
      },
      "source": [
        "ano_nascimento = [1990, 1990, 1995]\n",
        "ano_nascimento_nova = []\n",
        "for item in ano_nascimento:\n",
        "  ano_nascimento_nova.append(item)\n",
        "  print(ano_nascimento_nova)\n",
        "#ano_nascimento_unicos = list(set(ano_nascimento))\n",
        "#ano_nascimento_nova.append(ano_nascimento_unicos)\n",
        "\n",
        "#a = ano_nascimento_nova[0]\n",
        "#b = ano_nascimento_nova[1]\n",
        "#c = ano_nascimento_nova[2]\n",
        "\n",
        "x = 2\n",
        "\n",
        "if (a % x == 0):\n",
        "  print(a)\n",
        "  if (b % x == 0):\n",
        "    print(b)\n",
        "    if (c % x == 0):\n",
        "      print(c)\n",
        "      #print(ano_nascimento_unicos)\n",
        "else:\n",
        "  print(\"Não temos numeros pares únicos\")\n"
      ],
      "execution_count": null,
      "outputs": [
        {
          "output_type": "stream",
          "text": [
            "[1990]\n",
            "[1990, 1990]\n",
            "[1990, 1990, 1995]\n"
          ],
          "name": "stdout"
        },
        {
          "output_type": "error",
          "ename": "TypeError",
          "evalue": "ignored",
          "traceback": [
            "\u001b[0;31m---------------------------------------------------------------------------\u001b[0m",
            "\u001b[0;31mTypeError\u001b[0m                                 Traceback (most recent call last)",
            "\u001b[0;32m<ipython-input-144-d7b0c840173a>\u001b[0m in \u001b[0;36m<module>\u001b[0;34m()\u001b[0m\n\u001b[1;32m     13\u001b[0m \u001b[0mx\u001b[0m \u001b[0;34m=\u001b[0m \u001b[0;36m2\u001b[0m\u001b[0;34m\u001b[0m\u001b[0;34m\u001b[0m\u001b[0m\n\u001b[1;32m     14\u001b[0m \u001b[0;34m\u001b[0m\u001b[0m\n\u001b[0;32m---> 15\u001b[0;31m \u001b[0;32mif\u001b[0m \u001b[0;34m(\u001b[0m\u001b[0ma\u001b[0m \u001b[0;34m%\u001b[0m \u001b[0mx\u001b[0m \u001b[0;34m==\u001b[0m \u001b[0;36m0\u001b[0m\u001b[0;34m)\u001b[0m\u001b[0;34m:\u001b[0m\u001b[0;34m\u001b[0m\u001b[0;34m\u001b[0m\u001b[0m\n\u001b[0m\u001b[1;32m     16\u001b[0m   \u001b[0mprint\u001b[0m\u001b[0;34m(\u001b[0m\u001b[0ma\u001b[0m\u001b[0;34m)\u001b[0m\u001b[0;34m\u001b[0m\u001b[0;34m\u001b[0m\u001b[0m\n\u001b[1;32m     17\u001b[0m   \u001b[0;32mif\u001b[0m \u001b[0;34m(\u001b[0m\u001b[0mb\u001b[0m \u001b[0;34m%\u001b[0m \u001b[0mx\u001b[0m \u001b[0;34m==\u001b[0m \u001b[0;36m0\u001b[0m\u001b[0;34m)\u001b[0m\u001b[0;34m:\u001b[0m\u001b[0;34m\u001b[0m\u001b[0;34m\u001b[0m\u001b[0m\n",
            "\u001b[0;31mTypeError\u001b[0m: unsupported operand type(s) for %: 'list' and 'int'"
          ]
        }
      ]
    },
    {
      "cell_type": "code",
      "metadata": {
        "id": "9PYG2Vp9i2fL",
        "colab_type": "code",
        "colab": {
          "base_uri": "https://localhost:8080/",
          "height": 132
        },
        "outputId": "9c4c6b78-ed79-4e91-f121-60c1e03a26db"
      },
      "source": [
        "ano_nascimento = [1990, 1990, 1995]\n",
        "ano_nascimento_nova = []\n",
        "ano_nascimento_nova.append(ano_nascimento)\n",
        "  print(ano_nascimento_nova)"
      ],
      "execution_count": null,
      "outputs": [
        {
          "output_type": "error",
          "ename": "IndentationError",
          "evalue": "ignored",
          "traceback": [
            "\u001b[0;36m  File \u001b[0;32m\"<ipython-input-153-340b3ec859a7>\"\u001b[0;36m, line \u001b[0;32m4\u001b[0m\n\u001b[0;31m    print(ano_nascimento_nova)\u001b[0m\n\u001b[0m    ^\u001b[0m\n\u001b[0;31mIndentationError\u001b[0m\u001b[0;31m:\u001b[0m unexpected indent\n"
          ]
        }
      ]
    },
    {
      "cell_type": "markdown",
      "metadata": {
        "id": "vMmyXm-zWKKs",
        "colab_type": "text"
      },
      "source": [
        "*Testando operações com numeros pares*"
      ]
    },
    {
      "cell_type": "code",
      "metadata": {
        "id": "xJGTZBfgVqpN",
        "colab_type": "code",
        "colab": {
          "base_uri": "https://localhost:8080/",
          "height": 34
        },
        "outputId": "a63f51ac-b6d9-4364-a3a2-f0653c64c0fb"
      },
      "source": [
        "ano_nascimento = [1990, 1991, 1990, 1990, 1992, 1991]\n",
        "if (ano_nascimento[0] % 2 == 0):\n",
        "  print(ano_nascimento[0])"
      ],
      "execution_count": null,
      "outputs": [
        {
          "output_type": "stream",
          "text": [
            "1990\n"
          ],
          "name": "stdout"
        }
      ]
    },
    {
      "cell_type": "code",
      "metadata": {
        "id": "VPSW324gaaSY",
        "colab_type": "code",
        "colab": {
          "base_uri": "https://localhost:8080/",
          "height": 52
        },
        "outputId": "84507ff3-656c-4ef0-b89b-e92ff84cfcfa"
      },
      "source": [
        "ano_nascimento = [1990, 1991, 1990, 1990, 1992, 1991]\n",
        "ano_nascimento_nova = []\n",
        "a = ano_nascimento[0]\n",
        "b = ano_nascimento[1]\n",
        "c = ano_nascimento[2]\n",
        "d = ano_nascimento[3]\n",
        "e = ano_nascimento[4]\n",
        "f = ano_nascimento[5]\n",
        "x = 2\n",
        "if (a % x == 0):\n",
        "  ano_nascimento_nova.append(a)\n",
        "  if (b % x == 0):\n",
        "    ano_nascimento_nova.append(b)\n",
        "    if (c % x == 0):\n",
        "      ano_nascimento_nova.append(c)\n",
        "      if (d % x == 0):\n",
        "        ano_nascimento_nova.append(d)\n",
        "        if (e % x == 0):\n",
        "          ano_nascimento_nova.append(e)\n",
        "          if (f % x == 0):\n",
        "            ano_nascimento_nova.append(f)\n",
        "  else:\n",
        "    print(\"Não temos numeros pares únicos\")\n",
        "\n",
        "    unicos = list(set(ano_nascimento_nova))\n",
        "\n",
        "  print(ano_nascimento_nova)\n"
      ],
      "execution_count": null,
      "outputs": [
        {
          "output_type": "stream",
          "text": [
            "Não temos numeros pares únicos\n",
            "[1990]\n"
          ],
          "name": "stdout"
        }
      ]
    },
    {
      "cell_type": "markdown",
      "metadata": {
        "id": "B7qqs9PHOzDz",
        "colab_type": "text"
      },
      "source": [
        "***Extras**: Utilizando a função type para identificar o tipo de um determinado objeto*"
      ]
    },
    {
      "cell_type": "code",
      "metadata": {
        "id": "miattiX3OsT-",
        "colab_type": "code",
        "colab": {
          "base_uri": "https://localhost:8080/",
          "height": 34
        },
        "outputId": "25e13733-d277-4ff6-b9e7-39631c0ecdd3"
      },
      "source": [
        "type(ano_nascimento)"
      ],
      "execution_count": null,
      "outputs": [
        {
          "output_type": "execute_result",
          "data": {
            "text/plain": [
              "list"
            ]
          },
          "metadata": {
            "tags": []
          },
          "execution_count": 76
        }
      ]
    },
    {
      "cell_type": "markdown",
      "metadata": {
        "id": "UOAC_8TyV6X3",
        "colab_type": "text"
      },
      "source": [
        "*Exercício Extra para aprender a filtrar itens exclusívos de uma lista*"
      ]
    },
    {
      "cell_type": "code",
      "metadata": {
        "id": "UVpMz869TgQu",
        "colab_type": "code",
        "colab": {
          "base_uri": "https://localhost:8080/",
          "height": 34
        },
        "outputId": "c1f2e3c6-3eee-4813-d8aa-bfa7162710ba"
      },
      "source": [
        "a = [5, 1, 2, 3, 1, 5, 6, 7, 8, 2, 2, 9, 10]\n",
        "unicos = list(set(a))\n",
        "print(unicos)"
      ],
      "execution_count": null,
      "outputs": [
        {
          "output_type": "stream",
          "text": [
            "[1, 2, 3, 5, 6, 7, 8, 9, 10]\n"
          ],
          "name": "stdout"
        }
      ]
    },
    {
      "cell_type": "markdown",
      "metadata": {
        "id": "PrPK2EPk1ql9",
        "colab_type": "text"
      },
      "source": [
        "\n",
        "\n",
        "---\n",
        "\n"
      ]
    },
    {
      "cell_type": "markdown",
      "metadata": {
        "id": "_8UUxJEEq2Jn",
        "colab_type": "text"
      },
      "source": [
        "Exercicio 4: Nesse exercicio vamos simular um caixa de mercado!\n",
        "Dado o dicionario inicial {'banana': 3.1, 'maca': 1.5, 'goiaba': 4.3}\n",
        "\n",
        "Faça um *Loop Infinito* que pergunte para o usuario qual produto ele gostaria de consultar o preço e que retorne o valor contido no dicionario."
      ]
    },
    {
      "cell_type": "code",
      "metadata": {
        "id": "3Qcrdzfr2rXe",
        "colab_type": "code",
        "colab": {
          "base_uri": "https://localhost:8080/",
          "height": 52
        },
        "outputId": "d0a5c979-3181-4dc5-cb37-c9327c7091b8"
      },
      "source": [
        "                  #============================#\n",
        "                  #   CAIXA DE SUPERMERCADO    #\n",
        "                  #============================#\n",
        "\n",
        "nome = input(\"qual produto deseja consultar o preço?: \")\n",
        "\n",
        "mercado = {\"banana\":3.1, \"maca\":1.5, \"goiaba\":4.3}\n",
        "\n",
        "if (nome == \"banana\"):\n",
        "  print(mercado[\"banana\"])\n",
        "elif (nome == \"maca\"):\n",
        "  print(mercado[\"maca\"])\n",
        "elif (nome == \"goiaba\"):\n",
        "  print(mercado[\"goiaba\"])\n",
        "else:\n",
        "  print(\"produto não cadastrado, digite novamente\")\n"
      ],
      "execution_count": null,
      "outputs": [
        {
          "output_type": "stream",
          "text": [
            "qual produto deseja consultar o preço?: jaca\n",
            "produto não cadastrado, digite novamente\n"
          ],
          "name": "stdout"
        }
      ]
    },
    {
      "cell_type": "code",
      "metadata": {
        "id": "jgxhj1hGA_3e",
        "colab_type": "code",
        "colab": {
          "base_uri": "https://localhost:8080/",
          "height": 132
        },
        "outputId": "d9f0a73e-e3f8-42ba-ae85-d23adc41cefb"
      },
      "source": [
        "                  #============================#\n",
        "                  #   CAIXA DE SUPERMERCADO    #\n",
        "                  #      LOOP WHILE            #\n",
        "                  #============================#\n",
        "\n",
        "nome = input(\"qual produto deseja consultar o preço?: \")\n",
        "\n",
        "mercado = {\"banana\":3.1, \"maca\":1.5, \"goiaba\":4.3}\n",
        "x = [\"banana\",3.1]\n",
        "print(x)\n",
        "\n",
        "while i in mercado == nome:\n",
        "  print(i)\n",
        "  else:\n",
        "    print(\"fim de lista\")\n",
        "\n",
        "    for k,v in dict.items():\n",
        "  print(k,v)\n"
      ],
      "execution_count": null,
      "outputs": [
        {
          "output_type": "error",
          "ename": "SyntaxError",
          "evalue": "ignored",
          "traceback": [
            "\u001b[0;36m  File \u001b[0;32m\"<ipython-input-9-1edd083cf027>\"\u001b[0;36m, line \u001b[0;32m10\u001b[0m\n\u001b[0;31m    else:\u001b[0m\n\u001b[0m       ^\u001b[0m\n\u001b[0;31mSyntaxError\u001b[0m\u001b[0;31m:\u001b[0m invalid syntax\n"
          ]
        }
      ]
    },
    {
      "cell_type": "markdown",
      "metadata": {
        "id": "b4C6ShRJ9RLZ",
        "colab_type": "text"
      },
      "source": [
        "***Treinando LOOP WHILE***"
      ]
    },
    {
      "cell_type": "code",
      "metadata": {
        "id": "PevhTK3W9_zT",
        "colab_type": "code",
        "colab": {
          "base_uri": "https://localhost:8080/",
          "height": 194
        },
        "outputId": "34c2141c-022f-4c2f-9dbd-0962109e7905"
      },
      "source": [
        "#Imprimindo os valores e 0 ate 9\n",
        "# Enquanto a condição for verdadeira, o LOOP É INFINITO!\n",
        "x = 0\n",
        "while x < 10:\n",
        "  print(x)\n",
        "  x += 1  #essa linha de código é que interrompe o LOOPING"
      ],
      "execution_count": null,
      "outputs": [
        {
          "output_type": "stream",
          "text": [
            "0\n",
            "1\n",
            "2\n",
            "3\n",
            "4\n",
            "5\n",
            "6\n",
            "7\n",
            "8\n",
            "9\n"
          ],
          "name": "stdout"
        }
      ]
    },
    {
      "cell_type": "code",
      "metadata": {
        "id": "qKQfVdOL_7d-",
        "colab_type": "code",
        "colab": {
          "base_uri": "https://localhost:8080/",
          "height": 390
        },
        "outputId": "177015cd-ad81-4484-e275-0ae949c8346c"
      },
      "source": [
        "#Usando a clausula ELSE para encerrar LOOP WHILE\n",
        "x = 0\n",
        "while x < 10:\n",
        "  print(\"o valor é:\", x)\n",
        "  print(\"x ainda é menor que 10, somando 1 a \", x)\n",
        "  x+=1\n",
        "else:\n",
        "  print(\"concluído\")\n"
      ],
      "execution_count": null,
      "outputs": [
        {
          "output_type": "stream",
          "text": [
            "o valor é: 0\n",
            "x ainda é menor que 10, somando 1 a  0\n",
            "o valor é: 1\n",
            "x ainda é menor que 10, somando 1 a  1\n",
            "o valor é: 2\n",
            "x ainda é menor que 10, somando 1 a  2\n",
            "o valor é: 3\n",
            "x ainda é menor que 10, somando 1 a  3\n",
            "o valor é: 4\n",
            "x ainda é menor que 10, somando 1 a  4\n",
            "o valor é: 5\n",
            "x ainda é menor que 10, somando 1 a  5\n",
            "o valor é: 6\n",
            "x ainda é menor que 10, somando 1 a  6\n",
            "o valor é: 7\n",
            "x ainda é menor que 10, somando 1 a  7\n",
            "o valor é: 8\n",
            "x ainda é menor que 10, somando 1 a  8\n",
            "o valor é: 9\n",
            "x ainda é menor que 10, somando 1 a  9\n",
            "concluído\n"
          ],
          "name": "stdout"
        }
      ]
    },
    {
      "cell_type": "code",
      "metadata": {
        "id": "MVBC8AnZ8n4G",
        "colab_type": "code",
        "colab": {
          "base_uri": "https://localhost:8080/",
          "height": 34
        },
        "outputId": "ab587c2f-4de2-47d0-9467-0596afba2845"
      },
      "source": [
        "a = 0\n",
        "while a < 100:\n",
        "  if a == 10:\n",
        "    break\n",
        "  else:\n",
        "    pass\n",
        "  print(a)\n",
        "  a = a + 1\n",
        "  "
      ],
      "execution_count": null,
      "outputs": [
        {
          "output_type": "stream",
          "text": [
            "0\n"
          ],
          "name": "stdout"
        }
      ]
    },
    {
      "cell_type": "code",
      "metadata": {
        "id": "hPzfviKVqIOV",
        "colab_type": "code",
        "colab": {
          "base_uri": "https://localhost:8080/",
          "height": 34
        },
        "outputId": "846f6a6d-e4f6-42fa-906e-f63c3e07a50d"
      },
      "source": [
        "a = {\"a\":1, \"b\":2, \"c\":3}\n",
        "a[\"a\"]"
      ],
      "execution_count": null,
      "outputs": [
        {
          "output_type": "execute_result",
          "data": {
            "text/plain": [
              "1"
            ]
          },
          "metadata": {
            "tags": []
          },
          "execution_count": 32
        }
      ]
    },
    {
      "cell_type": "code",
      "metadata": {
        "id": "PkJGYhRLqXa_",
        "colab_type": "code",
        "colab": {
          "base_uri": "https://localhost:8080/",
          "height": 34
        },
        "outputId": "ef46fa55-e20a-44cd-b750-0d389d9a7555"
      },
      "source": [
        "\"python\"[1:]\n"
      ],
      "execution_count": null,
      "outputs": [
        {
          "output_type": "execute_result",
          "data": {
            "text/plain": [
              "'ython'"
            ]
          },
          "metadata": {
            "tags": []
          },
          "execution_count": 38
        }
      ]
    },
    {
      "cell_type": "code",
      "metadata": {
        "id": "g8DOWiDlz1vj",
        "colab_type": "code",
        "colab": {}
      },
      "source": [
        "if (5 > 2):\n",
        "  print(\"Show\")"
      ],
      "execution_count": null,
      "outputs": []
    },
    {
      "cell_type": "code",
      "metadata": {
        "id": "E_WpSh8tz_Ll",
        "colab_type": "code",
        "colab": {
          "base_uri": "https://localhost:8080/",
          "height": 34
        },
        "outputId": "d539c9bd-5e18-4ecd-a444-93dd15a4e0ea"
      },
      "source": [
        "if (5>2):\n",
        "  print(\"show\")\n",
        "else:\n",
        "  print(\"deu ruim\")"
      ],
      "execution_count": null,
      "outputs": [
        {
          "output_type": "stream",
          "text": [
            "show\n"
          ],
          "name": "stdout"
        }
      ]
    },
    {
      "cell_type": "markdown",
      "metadata": {
        "id": "T8iwQefeq5XS",
        "colab_type": "text"
      },
      "source": [
        "Desafio 4.1: Faça uma condição de saida para o Looping (loop while)\n"
      ]
    },
    {
      "cell_type": "code",
      "metadata": {
        "id": "yRBh3_OJ4yEa",
        "colab_type": "code",
        "colab": {
          "base_uri": "https://localhost:8080/",
          "height": 132
        },
        "outputId": "dc99acd0-f3a1-4d18-b99d-b6f98a21ebdc"
      },
      "source": [
        "                  #============================#\n",
        "                  #   CAIXA DE SUPERMERCADO    #\n",
        "                  #============================#\n",
        "\n",
        "nome = input(\"qual produto deseja consultar o preço?: \")\n",
        "fechamento = {\"fechar Caixa\":Caixa Fechado}\n",
        "mercado = {\"banana\":3.1, \"maca\":1.5, \"goiaba\":4.3}\n",
        "\n",
        "if (nome == \"banana\"):\n",
        "  print(mercado[\"banana\"])\n",
        "elif (nome == \"maca\"):\n",
        "  print(mercado[\"maca\"])\n",
        "elif (nome == \"goiaba\"):\n",
        "  print(mercado[\"goiaba\"])\n",
        "elif (nome == \"fechar Caixa\"):\n",
        "  print(fechamento[\"Caixa Fechado\"])\n",
        "else:\n",
        "  print(\"produto não cadastrado, digite novamente\")"
      ],
      "execution_count": null,
      "outputs": [
        {
          "output_type": "error",
          "ename": "SyntaxError",
          "evalue": "ignored",
          "traceback": [
            "\u001b[0;36m  File \u001b[0;32m\"<ipython-input-1-05f17f627a09>\"\u001b[0;36m, line \u001b[0;32m3\u001b[0m\n\u001b[0;31m    fechamento = {\"fechar Caixa\":Caixa Fechado}\u001b[0m\n\u001b[0m                                             ^\u001b[0m\n\u001b[0;31mSyntaxError\u001b[0m\u001b[0;31m:\u001b[0m invalid syntax\n"
          ]
        }
      ]
    },
    {
      "cell_type": "code",
      "metadata": {
        "id": "CixLjsuAp9r-",
        "colab_type": "code",
        "colab": {
          "base_uri": "https://localhost:8080/",
          "height": 70
        },
        "outputId": "9ab55a67-fb7a-46da-a5dd-192e98c2ec91"
      },
      "source": [
        "#estrutura de repetição\n",
        "#loop for\n",
        "tp = (2,3,4)\n",
        "for i in tp:\n",
        "  print(i)"
      ],
      "execution_count": null,
      "outputs": [
        {
          "output_type": "stream",
          "text": [
            "2\n",
            "3\n",
            "4\n"
          ],
          "name": "stdout"
        }
      ]
    },
    {
      "cell_type": "code",
      "metadata": {
        "id": "9Gx8VjGOqtOV",
        "colab_type": "code",
        "colab": {
          "base_uri": "https://localhost:8080/",
          "height": 70
        },
        "outputId": "1e597799-181f-4728-96bd-fb1d505f3658"
      },
      "source": [
        "lista = [\"balão\", \"cidade\", \"foguete\"]\n",
        "for i in lista:\n",
        "  print(i)"
      ],
      "execution_count": null,
      "outputs": [
        {
          "output_type": "stream",
          "text": [
            "balão\n",
            "cidade\n",
            "foguete\n"
          ],
          "name": "stdout"
        }
      ]
    },
    {
      "cell_type": "code",
      "metadata": {
        "id": "z9FLsNYKq9KG",
        "colab_type": "code",
        "colab": {
          "base_uri": "https://localhost:8080/",
          "height": 105
        },
        "outputId": "45b64fdf-f1dc-455f-c505-2d066a4b52f6"
      },
      "source": [
        "for i in range(0,5): \n",
        "  'iniciando do 0 e imprimindo 5 elementos'\n",
        "  print(i)"
      ],
      "execution_count": null,
      "outputs": [
        {
          "output_type": "stream",
          "text": [
            "0\n",
            "1\n",
            "2\n",
            "3\n",
            "4\n"
          ],
          "name": "stdout"
        }
      ]
    },
    {
      "cell_type": "code",
      "metadata": {
        "id": "sSBwRAjGsC-r",
        "colab_type": "code",
        "colab": {
          "base_uri": "https://localhost:8080/",
          "height": 105
        },
        "outputId": "e5507980-d539-44f2-aef8-a3dae6585b30"
      },
      "source": [
        "lista = [1,2,3,4,5,6,7,8,9,10]\n",
        "for i in lista:\n",
        "  if i %2 == 0:\n",
        "    print(i)"
      ],
      "execution_count": null,
      "outputs": [
        {
          "output_type": "stream",
          "text": [
            "2\n",
            "4\n",
            "6\n",
            "8\n",
            "10\n"
          ],
          "name": "stdout"
        }
      ]
    },
    {
      "cell_type": "code",
      "metadata": {
        "id": "7YCaYS1XswUE",
        "colab_type": "code",
        "colab": {
          "base_uri": "https://localhost:8080/",
          "height": 941
        },
        "outputId": "652b20d9-caa4-42e8-c503-14cc849e027d"
      },
      "source": [
        "for i in range(0,104,2):\n",
        "  print(i)\n"
      ],
      "execution_count": null,
      "outputs": [
        {
          "output_type": "stream",
          "text": [
            "0\n",
            "2\n",
            "4\n",
            "6\n",
            "8\n",
            "10\n",
            "12\n",
            "14\n",
            "16\n",
            "18\n",
            "20\n",
            "22\n",
            "24\n",
            "26\n",
            "28\n",
            "30\n",
            "32\n",
            "34\n",
            "36\n",
            "38\n",
            "40\n",
            "42\n",
            "44\n",
            "46\n",
            "48\n",
            "50\n",
            "52\n",
            "54\n",
            "56\n",
            "58\n",
            "60\n",
            "62\n",
            "64\n",
            "66\n",
            "68\n",
            "70\n",
            "72\n",
            "74\n",
            "76\n",
            "78\n",
            "80\n",
            "82\n",
            "84\n",
            "86\n",
            "88\n",
            "90\n",
            "92\n",
            "94\n",
            "96\n",
            "98\n",
            "100\n",
            "102\n"
          ],
          "name": "stdout"
        }
      ]
    },
    {
      "cell_type": "code",
      "metadata": {
        "id": "YpNfxONytPrd",
        "colab_type": "code",
        "colab": {
          "base_uri": "https://localhost:8080/",
          "height": 247
        },
        "outputId": "2299fa9e-72e1-4420-ba9a-f02b2a8b3c7a"
      },
      "source": [
        "for i in \"python é foda\":\n",
        "  print(i)"
      ],
      "execution_count": null,
      "outputs": [
        {
          "output_type": "stream",
          "text": [
            "p\n",
            "y\n",
            "t\n",
            "h\n",
            "o\n",
            "n\n",
            " \n",
            "é\n",
            " \n",
            "f\n",
            "o\n",
            "d\n",
            "a\n"
          ],
          "name": "stdout"
        }
      ]
    },
    {
      "cell_type": "code",
      "metadata": {
        "id": "zGGc5j0htgs0",
        "colab_type": "code",
        "colab": {
          "base_uri": "https://localhost:8080/",
          "height": 461
        },
        "outputId": "e3753fe8-f626-46f9-87bc-3937338aa701"
      },
      "source": [
        "#loops aninhados - loop for dentro do loop for\n",
        "#usado para matrizes - machine e deep learning\n",
        "for i in range(0,5):\n",
        "  for j in range(0,5):\n",
        "    print(j)"
      ],
      "execution_count": null,
      "outputs": [
        {
          "output_type": "stream",
          "text": [
            "0\n",
            "1\n",
            "2\n",
            "3\n",
            "4\n",
            "0\n",
            "1\n",
            "2\n",
            "3\n",
            "4\n",
            "0\n",
            "1\n",
            "2\n",
            "3\n",
            "4\n",
            "0\n",
            "1\n",
            "2\n",
            "3\n",
            "4\n",
            "0\n",
            "1\n",
            "2\n",
            "3\n",
            "4\n"
          ],
          "name": "stdout"
        }
      ]
    },
    {
      "cell_type": "code",
      "metadata": {
        "id": "XuFPV0Sy0TFV",
        "colab_type": "code",
        "colab": {
          "base_uri": "https://localhost:8080/",
          "height": 34
        },
        "outputId": "1a039d65-333f-406e-8a79-4edf8d851154"
      },
      "source": [
        "6>3"
      ],
      "execution_count": null,
      "outputs": [
        {
          "output_type": "execute_result",
          "data": {
            "text/plain": [
              "True"
            ]
          },
          "metadata": {
            "tags": []
          },
          "execution_count": 42
        }
      ]
    },
    {
      "cell_type": "code",
      "metadata": {
        "id": "jYYwc-GjvGLu",
        "colab_type": "code",
        "colab": {
          "base_uri": "https://localhost:8080/",
          "height": 34
        },
        "outputId": "b3a9b746-a435-4be7-917a-31f33f75201d"
      },
      "source": [
        "#calcular a soma dos valores contidos na listaB\n",
        "listaB = [32,53,85,10,15,17,19]\n",
        "soma = 0  #variável global\n",
        "for i in listaB:\n",
        "  double_i = i*2  #variável local, pois esta dentro do if\n",
        "  soma += double_i\n",
        "print(soma)"
      ],
      "execution_count": null,
      "outputs": [
        {
          "output_type": "stream",
          "text": [
            "462\n"
          ],
          "name": "stdout"
        }
      ]
    },
    {
      "cell_type": "code",
      "metadata": {
        "id": "i675NnxyyVuh",
        "colab_type": "code",
        "colab": {
          "base_uri": "https://localhost:8080/",
          "height": 70
        },
        "outputId": "3930b070-10de-4324-f23f-9d159787f6f5"
      },
      "source": [
        "#lista de listas\n",
        "listas = [[1,2,3], [10,15,14], [10.1,8.7,2.3]]\n",
        "for valor in listas:\n",
        "  print(valor)  "
      ],
      "execution_count": null,
      "outputs": [
        {
          "output_type": "stream",
          "text": [
            "[1, 2, 3]\n",
            "[10, 15, 14]\n",
            "[10.1, 8.7, 2.3]\n"
          ],
          "name": "stdout"
        }
      ]
    },
    {
      "cell_type": "code",
      "metadata": {
        "id": "2P6AU1600hIQ",
        "colab_type": "code",
        "colab": {
          "base_uri": "https://localhost:8080/",
          "height": 34
        },
        "outputId": "561139c9-d31d-43c0-c20a-06f0d4e8f3fa"
      },
      "source": [
        "lista = [5,6,10,13,17]\n",
        "count = 0\n",
        "for item in lista:\n",
        "  count += 1  # (+=) count = count + 1\n",
        "print(count)"
      ],
      "execution_count": null,
      "outputs": [
        {
          "output_type": "stream",
          "text": [
            "5\n"
          ],
          "name": "stdout"
        }
      ]
    },
    {
      "cell_type": "code",
      "metadata": {
        "id": "917IRef71qt9",
        "colab_type": "code",
        "colab": {
          "base_uri": "https://localhost:8080/",
          "height": 34
        },
        "outputId": "af1cb483-1ef5-4c30-92e2-55c69a939bd7"
      },
      "source": [
        "#contando quantas colunas eu tenho na lista, na posição 0 => listas[0]\n",
        "listas = [[1,2,3], [10,15,14], [10.1,8.7,2.3]]\n",
        "primeira_coluna = listas[0]\n",
        "x = 0\n",
        "for z in primeira_coluna:\n",
        "  x = x + 1\n",
        "print(x)"
      ],
      "execution_count": null,
      "outputs": [
        {
          "output_type": "stream",
          "text": [
            "3\n"
          ],
          "name": "stdout"
        }
      ]
    },
    {
      "cell_type": "code",
      "metadata": {
        "id": "ZoBroW_U4EOm",
        "colab_type": "code",
        "colab": {
          "base_uri": "https://localhost:8080/",
          "height": 34
        },
        "outputId": "6f49b671-ed73-4e50-8f1a-78b63edf2a29"
      },
      "source": [
        "#Pesquisando em listas\n",
        "listac = [5,6,7,810,50]\n",
        "for item in listac:\n",
        "  if item == 5:\n",
        "    print(\"achei\")"
      ],
      "execution_count": null,
      "outputs": [
        {
          "output_type": "stream",
          "text": [
            "achei\n"
          ],
          "name": "stdout"
        }
      ]
    },
    {
      "cell_type": "code",
      "metadata": {
        "id": "70Lc-JUm45K_",
        "colab_type": "code",
        "colab": {
          "base_uri": "https://localhost:8080/",
          "height": 70
        },
        "outputId": "0f90b14f-680d-4351-ddd3-64700f3cb21a"
      },
      "source": [
        "#listando as chaves de um dicionário\n",
        "dict = {\"k1\": \"A\", \"k2\":\"B\", \"k3\":\"C\"}\n",
        "for item in dict:\n",
        "  print(item)"
      ],
      "execution_count": null,
      "outputs": [
        {
          "output_type": "stream",
          "text": [
            "k1\n",
            "k2\n",
            "k3\n"
          ],
          "name": "stdout"
        }
      ]
    },
    {
      "cell_type": "code",
      "metadata": {
        "id": "DnN-eoXL6Q-g",
        "colab_type": "code",
        "colab": {
          "base_uri": "https://localhost:8080/",
          "height": 70
        },
        "outputId": "cfb818be-314e-4886-dc91-4abcf7b03b62"
      },
      "source": [
        "# impressão de chave e valor d dicionário, utilizando o método 'dict.items()\n",
        "for k,v in dict.items():\n",
        "  print(k,v)"
      ],
      "execution_count": null,
      "outputs": [
        {
          "output_type": "stream",
          "text": [
            "k1 A\n",
            "k2 B\n",
            "k3 C\n"
          ],
          "name": "stdout"
        }
      ]
    },
    {
      "cell_type": "code",
      "metadata": {
        "id": "mTQvoL0i6uAA",
        "colab_type": "code",
        "colab": {}
      },
      "source": [
        "#loop while\n"
      ],
      "execution_count": null,
      "outputs": []
    },
    {
      "cell_type": "code",
      "metadata": {
        "id": "goEkaOUA0YF4",
        "colab_type": "code",
        "colab": {
          "base_uri": "https://localhost:8080/",
          "height": 52
        },
        "outputId": "cb726f7c-1a2d-400e-af0d-13e194fad5a1"
      },
      "source": [
        "nome = input(\"qual produto deseja consultar?: \")\n",
        "mercado_dict = {'banana':3.1, 'maca':1.5, 'goiaba':4.3}\n",
        "mercado_dict['banana']\n",
        "mercado_dict['maca']\n",
        "mercado_dict['goiaba']\n"
      ],
      "execution_count": null,
      "outputs": [
        {
          "output_type": "stream",
          "text": [
            "qual produto deseja consultar?: banana\n"
          ],
          "name": "stdout"
        },
        {
          "output_type": "execute_result",
          "data": {
            "text/plain": [
              "4.3"
            ]
          },
          "metadata": {
            "tags": []
          },
          "execution_count": 180
        }
      ]
    },
    {
      "cell_type": "code",
      "metadata": {
        "id": "vKkNxI_a0W0m",
        "colab_type": "code",
        "colab": {
          "base_uri": "https://localhost:8080/",
          "height": 34
        },
        "outputId": "b5c6bdf4-b466-47ea-970f-666be58e4a4b"
      },
      "source": [
        "3>7"
      ],
      "execution_count": null,
      "outputs": [
        {
          "output_type": "execute_result",
          "data": {
            "text/plain": [
              "False"
            ]
          },
          "metadata": {
            "tags": []
          },
          "execution_count": 43
        }
      ]
    },
    {
      "cell_type": "markdown",
      "metadata": {
        "id": "zfQnehR2rFxS",
        "colab_type": "text"
      },
      "source": [
        "Desafio 4.2: Faça uma sessão para cadastrar novos produtos."
      ]
    },
    {
      "cell_type": "code",
      "metadata": {
        "id": "0_7OGzpU9S4e",
        "colab_type": "code",
        "colab": {
          "base_uri": "https://localhost:8080/",
          "height": 256
        },
        "outputId": "068bc667-5339-47ae-9280-832432b57bce"
      },
      "source": [
        "nome = input(\"qual produto deseja consultar o preço?: \")\n",
        "\n",
        "mercado = {\"banana\":3.1, \"maca\":1.5, \"goiaba\":4.3}\n",
        "\n",
        "if (nome == \"banana\"):\n",
        "  print(mercado[\"banana\"])\n",
        "elif (nome == \"maca\"):\n",
        "  print(mercado[\"maca\"])\n",
        "elif (nome == \"goiaba\"):\n",
        "  print(mercado[\"goiaba\"])\n",
        "else:\n",
        "  print(\"produto não cadastrado \")\n",
        "chamada = input(\"Deseja inclui-lo? \")\n",
        "if (chamada == \"sim\"):\n",
        "  print(nome, \"Cadastrado na base de dados\")\n",
        "  mercado.append(\"nome\")\n",
        "  preco = input(\"Digite o preço \")\n",
        "  mercado.append(\"preco\")\n",
        "else:\n",
        "  print(\"Processo encerrado\")\n",
        "\n"
      ],
      "execution_count": null,
      "outputs": [
        {
          "output_type": "stream",
          "text": [
            "qual produto deseja consultar o preço?: jaca\n"
          ],
          "name": "stdout"
        },
        {
          "output_type": "error",
          "ename": "TypeError",
          "evalue": "ignored",
          "traceback": [
            "\u001b[0;31m---------------------------------------------------------------------------\u001b[0m",
            "\u001b[0;31mTypeError\u001b[0m                                 Traceback (most recent call last)",
            "\u001b[0;32m<ipython-input-105-b2c0fcaf823e>\u001b[0m in \u001b[0;36m<module>\u001b[0;34m()\u001b[0m\n\u001b[1;32m     10\u001b[0m   \u001b[0mprint\u001b[0m\u001b[0;34m(\u001b[0m\u001b[0mmercado\u001b[0m\u001b[0;34m[\u001b[0m\u001b[0;34m\"goiaba\"\u001b[0m\u001b[0;34m]\u001b[0m\u001b[0;34m)\u001b[0m\u001b[0;34m\u001b[0m\u001b[0;34m\u001b[0m\u001b[0m\n\u001b[1;32m     11\u001b[0m \u001b[0;32melse\u001b[0m\u001b[0;34m:\u001b[0m\u001b[0;34m\u001b[0m\u001b[0;34m\u001b[0m\u001b[0m\n\u001b[0;32m---> 12\u001b[0;31m   \u001b[0mprint\u001b[0m\u001b[0;34m(\u001b[0m\u001b[0;34m\"produto não cadastrado \"\u001b[0m\u001b[0;34m)\u001b[0m\u001b[0;34m\u001b[0m\u001b[0;34m\u001b[0m\u001b[0m\n\u001b[0m\u001b[1;32m     13\u001b[0m \u001b[0mchamada\u001b[0m \u001b[0;34m=\u001b[0m \u001b[0minput\u001b[0m\u001b[0;34m(\u001b[0m\u001b[0;34m\"Deseja inclui-lo? \"\u001b[0m\u001b[0;34m)\u001b[0m\u001b[0;34m\u001b[0m\u001b[0;34m\u001b[0m\u001b[0m\n\u001b[1;32m     14\u001b[0m \u001b[0;32mif\u001b[0m \u001b[0;34m(\u001b[0m\u001b[0mchamada\u001b[0m \u001b[0;34m==\u001b[0m \u001b[0;34m\"sim\"\u001b[0m\u001b[0;34m)\u001b[0m\u001b[0;34m:\u001b[0m\u001b[0;34m\u001b[0m\u001b[0;34m\u001b[0m\u001b[0m\n",
            "\u001b[0;31mTypeError\u001b[0m: 'tuple' object is not callable"
          ]
        }
      ]
    },
    {
      "cell_type": "code",
      "metadata": {
        "id": "aJHGPYer2h-u",
        "colab_type": "code",
        "colab": {}
      },
      "source": [
        "  "
      ],
      "execution_count": null,
      "outputs": []
    },
    {
      "cell_type": "code",
      "metadata": {
        "id": "e1knoxNq0ZRV",
        "colab_type": "code",
        "colab": {
          "base_uri": "https://localhost:8080/",
          "height": 34
        },
        "outputId": "be4bb8d2-dac3-47c1-f953-098cd262fadf"
      },
      "source": [
        "4<8"
      ],
      "execution_count": null,
      "outputs": [
        {
          "output_type": "execute_result",
          "data": {
            "text/plain": [
              "True"
            ]
          },
          "metadata": {
            "tags": []
          },
          "execution_count": 44
        }
      ]
    },
    {
      "cell_type": "code",
      "metadata": {
        "id": "-oHZ-gXl0kvp",
        "colab_type": "code",
        "colab": {
          "base_uri": "https://localhost:8080/",
          "height": 34
        },
        "outputId": "f64229d9-84d1-4af0-ab07-1737864c19ef"
      },
      "source": [
        "4>=4"
      ],
      "execution_count": null,
      "outputs": [
        {
          "output_type": "execute_result",
          "data": {
            "text/plain": [
              "True"
            ]
          },
          "metadata": {
            "tags": []
          },
          "execution_count": 45
        }
      ]
    },
    {
      "cell_type": "code",
      "metadata": {
        "id": "BgyjifVI4Gmu",
        "colab_type": "code",
        "colab": {}
      },
      "source": [
        "######################################\n",
        "#####       QUITANDINHA          #####\n",
        "######################################\n",
        "\n",
        "input = (\"Qual produto deseja consultar o preço?: )\n",
        "Frutas = {'banana': 3.1, 'maca': 1.5, 'goiaba': 4.3}\n",
        "\n",
        "if  "
      ],
      "execution_count": null,
      "outputs": []
    },
    {
      "cell_type": "code",
      "metadata": {
        "id": "wJJZlG8R0pH9",
        "colab_type": "code",
        "colab": {
          "base_uri": "https://localhost:8080/",
          "height": 34
        },
        "outputId": "0a8c21de-b86e-446b-c766-8b0ec1bff944"
      },
      "source": [
        "if 5 == 5:\n",
        "  print(\"Python\")"
      ],
      "execution_count": null,
      "outputs": [
        {
          "output_type": "stream",
          "text": [
            "Python\n"
          ],
          "name": "stdout"
        }
      ]
    },
    {
      "cell_type": "code",
      "metadata": {
        "id": "qA-2L0vR025G",
        "colab_type": "code",
        "colab": {
          "base_uri": "https://localhost:8080/",
          "height": 34
        },
        "outputId": "ae678fbe-307f-491b-952a-98400f95f35a"
      },
      "source": [
        "if True:\n",
        "  print(\"Python\")"
      ],
      "execution_count": null,
      "outputs": [
        {
          "output_type": "stream",
          "text": [
            "Python\n"
          ],
          "name": "stdout"
        }
      ]
    },
    {
      "cell_type": "code",
      "metadata": {
        "id": "uKeO7K7L1it4",
        "colab_type": "code",
        "colab": {
          "base_uri": "https://localhost:8080/",
          "height": 34
        },
        "outputId": "d094dd7d-e7a4-4737-dba6-d72a20e32dbc"
      },
      "source": [
        "idade = 18\n",
        "if idade > 17:\n",
        "  print(\"ok\")"
      ],
      "execution_count": null,
      "outputs": [
        {
          "output_type": "stream",
          "text": [
            "ok\n"
          ],
          "name": "stdout"
        }
      ]
    },
    {
      "cell_type": "code",
      "metadata": {
        "id": "oEeJTFFc1wCZ",
        "colab_type": "code",
        "colab": {
          "base_uri": "https://localhost:8080/",
          "height": 34
        },
        "outputId": "83411b86-1a09-47d6-a85e-a68e6cd26ac3"
      },
      "source": [
        "nome = \"bob\"\n",
        "if idade > 13:\n",
        "  if nome == \"bob\":\n",
        "    print(\"ok\")\n",
        "  else:\n",
        "    print(\"ñok\")"
      ],
      "execution_count": null,
      "outputs": [
        {
          "output_type": "stream",
          "text": [
            "ok\n"
          ],
          "name": "stdout"
        }
      ]
    },
    {
      "cell_type": "code",
      "metadata": {
        "id": "3KiiS3mh2O-g",
        "colab_type": "code",
        "colab": {
          "base_uri": "https://localhost:8080/",
          "height": 34
        },
        "outputId": "5622480f-2b40-408a-ed66-946fa6fdbab7"
      },
      "source": [
        "idade = 13\n",
        "nome = \"bob\"\n",
        "if idade >= 13 and nome == \"bob\":\n",
        "  print(\"ok\")"
      ],
      "execution_count": null,
      "outputs": [
        {
          "output_type": "stream",
          "text": [
            "ok\n"
          ],
          "name": "stdout"
        }
      ]
    },
    {
      "cell_type": "code",
      "metadata": {
        "id": "9cH8aYD23Bqt",
        "colab_type": "code",
        "colab": {
          "base_uri": "https://localhost:8080/",
          "height": 34
        },
        "outputId": "dba321c0-d2bc-4dd8-af64-9a3a647a38ac"
      },
      "source": [
        "idade = 12\n",
        "nome = \"bob\"\n",
        "if idade >=13 or nome == \"bob\":\n",
        "  print(\"ok\")"
      ],
      "execution_count": null,
      "outputs": [
        {
          "output_type": "stream",
          "text": [
            "ok\n"
          ],
          "name": "stdout"
        }
      ]
    },
    {
      "cell_type": "code",
      "metadata": {
        "id": "qzaFaNZj4JIN",
        "colab_type": "code",
        "colab": {}
      },
      "source": [
        ""
      ],
      "execution_count": null,
      "outputs": []
    },
    {
      "cell_type": "markdown",
      "metadata": {
        "id": "a5H7sZkprIB5",
        "colab_type": "text"
      },
      "source": [
        "Desafio 4.3: Armazene os produtos consultados em um arquivo json na mesma pasta."
      ]
    },
    {
      "cell_type": "code",
      "metadata": {
        "id": "gMhxvJph5Xad",
        "colab_type": "code",
        "colab": {}
      },
      "source": [
        "import json\n"
      ],
      "execution_count": null,
      "outputs": []
    },
    {
      "cell_type": "code",
      "metadata": {
        "id": "w6WPM2P4F7oo",
        "colab_type": "code",
        "colab": {}
      },
      "source": [
        "mercado = {\"banana\":3.1, \"maca\":1.5, \"goiaba\":4.3}\n",
        "mercado_string = json.dumps(mercado)\n",
        "mercado_string\n",
        "file = open('mercado.jason', 'wb')\n",
        "file.write(mercado_string.encode ())\n",
        "file.close()"
      ],
      "execution_count": null,
      "outputs": []
    },
    {
      "cell_type": "markdown",
      "metadata": {
        "id": "N7r6wOPD5QYa",
        "colab_type": "text"
      },
      "source": [
        "Exercícios de apoio"
      ]
    },
    {
      "cell_type": "code",
      "metadata": {
        "id": "5_E4xN2o01Nb",
        "colab_type": "code",
        "colab": {
          "base_uri": "https://localhost:8080/",
          "height": 34
        },
        "outputId": "652ebb41-d4f6-4e81-d390-859d41e3f557"
      },
      "source": [
        "a=75.11\n",
        "m=4\n",
        "r=a*m\n",
        "print(r)"
      ],
      "execution_count": null,
      "outputs": [
        {
          "output_type": "stream",
          "text": [
            "300.44\n"
          ],
          "name": "stdout"
        }
      ]
    },
    {
      "cell_type": "code",
      "metadata": {
        "id": "4A2I0Oext784",
        "colab_type": "code",
        "colab": {
          "base_uri": "https://localhost:8080/",
          "height": 34
        },
        "outputId": "e537a678-6758-41cc-f815-873eeb00c356"
      },
      "source": [
        "a=333\n",
        "b=150\n",
        "c=704\n",
        "d=145\n",
        "soma=a+b+c+d\n",
        "print(soma)"
      ],
      "execution_count": null,
      "outputs": [
        {
          "output_type": "stream",
          "text": [
            "1332\n"
          ],
          "name": "stdout"
        }
      ]
    }
  ]
}